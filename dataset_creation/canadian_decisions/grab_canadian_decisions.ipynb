{
  "nbformat": 4,
  "nbformat_minor": 0,
  "metadata": {
    "colab": {
      "name": "grab canadian decisions",
      "provenance": [],
      "collapsed_sections": []
    },
    "kernelspec": {
      "name": "python3",
      "display_name": "Python 3"
    },
    "language_info": {
      "name": "python"
    }
  },
  "cells": [
    {
      "cell_type": "code",
      "execution_count": null,
      "metadata": {
        "id": "rPQtXQlKgAIL"
      },
      "outputs": [],
      "source": [
        "import pandas as pd\n",
        "import numpy as np\n",
        "import re\n",
        "from bs4 import BeautifulSoup\n",
        "from bs4.element import Comment\n",
        "from progressbar import progressbar\n",
        "import requests\n",
        "from pickle import dump"
      ]
    },
    {
      "cell_type": "markdown",
      "source": [
        "# Ontario Court of Appeal Decisions"
      ],
      "metadata": {
        "id": "3jOROOtYmSac"
      }
    },
    {
      "cell_type": "code",
      "source": [
        "onca_main = \"https://www.ontariocourts.ca/coa/decisions_main/\"\n",
        "onca_year_pages = []\n",
        "# Make a GET request to fetch the raw HTML content\n",
        "html_content = requests.get(onca_main).text\n",
        "soup = BeautifulSoup(html_content,\"html.parser\")\n",
        "for link in soup.find_all('a'):\n",
        "    result = link.get('href')\n",
        "    if isinstance(result,str):\n",
        "      if re.search(\"decisions-\\d{4}\",result):\n",
        "        onca_year_pages.append(result)\n",
        "\n",
        "onca_year_pages"
      ],
      "metadata": {
        "colab": {
          "base_uri": "https://localhost:8080/"
        },
        "id": "l4nSAJkZgIbH",
        "outputId": "7787ba37-0037-4dbd-d1a5-b7b600973837"
      },
      "execution_count": null,
      "outputs": [
        {
          "output_type": "execute_result",
          "data": {
            "text/plain": [
              "['https://www.ontariocourts.ca/coa/decisions_main/decisions-2022/',\n",
              " 'https://www.ontariocourts.ca/coa/decisions_main/decisions-2021/',\n",
              " 'https://www.ontariocourts.ca/coa/decisions_main/decisions-2020/',\n",
              " 'https://www.ontariocourts.ca/coa/decisions_main/decisions-2019/',\n",
              " 'https://www.ontariocourts.ca/coa/decisions_main/decisions-2018/',\n",
              " 'https://www.ontariocourts.ca/coa/decisions_main/decisions-2017/',\n",
              " 'https://www.ontariocourts.ca/coa/decisions_main/decisions-2016/',\n",
              " 'https://www.ontariocourts.ca/coa/decisions_main/decisions-2015/',\n",
              " 'https://www.ontariocourts.ca/coa/decisions_main/decisions-2014/',\n",
              " 'https://www.ontariocourts.ca/coa/decisions_main/decisions-2013/',\n",
              " 'https://www.ontariocourts.ca/coa/decisions_main/decisions-2012/',\n",
              " 'https://www.ontariocourts.ca/coa/decisions_main/decisions-2011/',\n",
              " 'https://www.ontariocourts.ca/coa/decisions_main/decisions-2010/',\n",
              " 'https://www.ontariocourts.ca/coa/decisions_main/decisions-2009/',\n",
              " 'https://www.ontariocourts.ca/coa/decisions_main/decisions-2008/',\n",
              " 'https://www.ontariocourts.ca/coa/decisions_main/decisions-2007/',\n",
              " 'https://www.ontariocourts.ca/coa/decisions_main/decisions-2006/',\n",
              " 'https://www.ontariocourts.ca/coa/decisions_main/decisions-2005/',\n",
              " 'https://www.ontariocourts.ca/coa/decisions_main/decisions-2004/',\n",
              " 'https://www.ontariocourts.ca/coa/decisions_main/decisions-2003/',\n",
              " 'https://www.ontariocourts.ca/coa/decisions_main/decisions-2002/',\n",
              " 'https://www.ontariocourts.ca/coa/decisions_main/decisions-2001/',\n",
              " 'https://www.ontariocourts.ca/coa/decisions_main/decisions-2000/',\n",
              " 'https://www.ontariocourts.ca/coa/decisions_main/decisions-1999/',\n",
              " 'https://www.ontariocourts.ca/coa/decisions_main/decisions-1998/']"
            ]
          },
          "metadata": {},
          "execution_count": 28
        }
      ]
    },
    {
      "cell_type": "code",
      "source": [
        "case_pages = []\n",
        "for year_page in onca_year_pages:\n",
        "  par = requests.get(year_page).text\n",
        "  soup_s = BeautifulSoup(par,\"html.parser\")\n",
        "  for link in soup_s.find_all('a'):\n",
        "      result = link.get('href')\n",
        "      if isinstance(result,str):\n",
        "        if re.search(\"decisions/\\d{4}/[A-Z0-9]+\\.htm$\",result):\n",
        "          case_pages.append(result)"
      ],
      "metadata": {
        "id": "XfkJf6TNgpgC"
      },
      "execution_count": null,
      "outputs": []
    },
    {
      "cell_type": "code",
      "source": [
        "def tag_visible(element):\n",
        "    if element.parent.name in ['style', 'script', 'head', 'title', 'meta', '[document]']:\n",
        "        return False\n",
        "    if isinstance(element, Comment):\n",
        "        return False\n",
        "    return True\n",
        "\n",
        "\n",
        "def text_from_html(body):\n",
        "    soup = BeautifulSoup(body, 'html.parser')\n",
        "    texts = soup.findAll(text=True)\n",
        "    visible_texts = filter(tag_visible, texts)  \n",
        "    return u\"\\n\".join(t.strip() for t in visible_texts)\n"
      ],
      "metadata": {
        "id": "gIA1R7zghZdd"
      },
      "execution_count": null,
      "outputs": []
    },
    {
      "cell_type": "code",
      "source": [
        "case_dict = {}\n",
        "for c in progressbar(case_pages):\n",
        "  yr = re.findall(\"(?<=decisions/)\\d{4}\",c)[0]\n",
        "  caseid = re.findall(\"(?<=\\d{4}/).*(?=.htm)\",c)[0]\n",
        "  caset = requests.get(c).text\n",
        "  casetext = text_from_html(caset)\n",
        "  case_dict[caseid] = {'year':yr,'text':casetext,'jdx':'on'}\n",
        "\n",
        "keys = [i for i in case_dict.keys()]\n",
        "case_dict[keys[9]]['text']"
      ],
      "metadata": {
        "colab": {
          "base_uri": "https://localhost:8080/",
          "height": 201
        },
        "id": "t0DgMFixiOjp",
        "outputId": "56b84da2-f626-4fc1-dd32-f32667e17a1f"
      },
      "execution_count": null,
      "outputs": [
        {
          "output_type": "stream",
          "name": "stderr",
          "text": [
            "100% (10443 of 10443) |##################| Elapsed Time: 0:45:07 Time:  0:45:07\n"
          ]
        },
        {
          "output_type": "execute_result",
          "data": {
            "text/plain": [
              "'\\n\\n\\n\\nCOURT OF APPEAL FOR ONTARIO\\n\\nCITATION: Capital Sewer Servicing Inc. v.\\r\\n    Crosslinx Transit Solutions Constructors, 2022 ONCA 10\\n\\nDATE: 20220112\\n\\nDOCKET: C69165\\n\\nDoherty, Benotto and Huscroft\\r\\n    JJ.A.\\n\\nBETWEEN\\n\\nCapital Sewer Servicing Inc.\\n\\nRespondent/Counter-applicant (Appellant in\\r\\n    Appeal)\\n\\nand\\n\\nCrosslinx Transit Solutions\\r\\n    Constructors\\n\\nApplicant (Respondent in Appeal)\\n\\nIan M. Mair and Ramon V. Andal, for the\\r\\n    appellant\\n\\nDaniel A. Schwartz, Adrian Visheau, and\\r\\n    Alexander Soutter, for the respondent\\n\\nHeard: November 30, 2021\\n\\nOn appeal from the order of Justice Markus\\r\\n    Koehnen of the Superior Court of Justice, dated February 1, 2021, with reasons\\r\\n    reported at 2021 ONSC 1091.\\n\\nDoherty J.A.:\\n\\nOVERVIEW\\n\\n[1]\\n\\nThe appellant (Capital) and the respondent\\r\\n    (Crosslinx) were involved in the construction of a light rail transit line in Toronto.\\r\\n    They were both sued by property owners who alleged they had suffered property\\r\\n    damage as a result of the negligence of the appellant and the respondent.\\n\\n[2]\\n\\nCrosslinx claimed that under the terms of the\\r\\n    agreement with Capital, Capital had a duty to indemnify and save Crosslinx\\r\\n    harmless from the damages, legal fees and other costs associated with the\\r\\n    claims made by the property owners. Capital denied any such obligation and\\r\\n    maintained that Crosslinx had assumed the risk of the harm claimed by the\\r\\n    property owners when Crosslinx undertook to insure the appellant against such\\r\\n    claims.\\n\\n[3]\\n\\nCapital and Crosslinx both brought applications\\r\\n    seeking a judicial interpretation of the relevant provisions of their contract.\\r\\n    Crosslinx prevailed. Capital appeals, alleging the application judge made\\r\\n    errors of law in his interpretation of the contract.\\n\\n[4]\\n\\nI would dismiss the appeal. Capital has failed\\r\\n    to show any error in law. The application judge applied the applicable rules of\\r\\n    contractual interpretation to the language of the contract considered in the\\r\\n    factual context presented by the evidence. His interpretation provides a\\r\\n    coherent reading of the agreement as a whole, considered in the context of the broader\\r\\n    relationship among the parties engaged in the project.\\n\\nBACKGROUND\\n\\n[5]\\n\\nIn July 2015, Crosslinx Transit Solutions General\\r\\n    Partnership (Project Co.) entered into an agreement (the Project Agreement) with\\r\\n    Metrolinx and other government agencies to complete work on the Eglinton\\r\\n    Crosstown Light Rail Transit Project. The same day, Project Co. contracted with\\r\\n    its subsidiary, Crosslinx, to carryout various projects relating to the\\r\\n    construction of the Crosstown rail line (the \\x93Construction Contract\\x94). Almost\\r\\n    two years later, Crosslinx entered into an agreement with Capital to do work\\r\\n    relating to the sewer system near the Avenue Road Station (the \\x93Subcontract\\x94).\\n\\n[6]\\n\\nOn February 21, 2018, the sewer system near the Avenue\\r\\n    Road station backed up, causing damage to three properties. Two of the property\\r\\n    owners sued Crosslinx and Capital. Their claims included specific allegations\\r\\n    of negligence against Capital.\\n\\n[7]\\n\\nCrosslinx brought an application claiming that\\r\\n    under the terms of the Subcontract, Capital was obliged to indemnify Crosslinx\\r\\n    and hold Crosslinx harmless in respect of the claims brought by the property\\r\\n    owners. Crosslinx contended that the indemnity extended to all costs associated\\r\\n    with defending against the claims, any indemnification obligations of\\r\\n    Crosslinx, and any insurance deductibles paid or payable by Crosslinx in\\r\\n    respect of the claims.\\n\\n[8]\\n\\nCapital responded with a cross-application seeking\\r\\n    a declaration that it had no obligation to indemnify or defend Crosslinx in the\\r\\n    actions. Capital maintained Crosslinx had assumed the risk of the damage\\r\\n    described in the property owners\\x92 claims when it undertook in the Construction Contract\\r\\n    to maintain insurance covering those risks. Capital contended that the\\r\\n    obligation to insure contained in the Construction Contract had been incorporated\\r\\n    into the Subcontract.\\n\\nThe Agreements\\n\\n[9]\\n\\nThere are three agreements in play. The Project Agreement\\r\\n    between Project Co. and Metrolinx included insurance covenants set out in Schedule\\r\\n    25 to that agreement. Under those covenants Project Co. was required to obtain\\r\\n    and maintain Primary Wrap-Up Commercial General Liability insurance (the Primary\\r\\n    Wrap-Up insurance). The Primary Wrap-Up insurance had to name as insured all\\r\\n    contractors and subcontractors and was required to be \\x93primary without right of\\r\\n    contribution of any other insurance carried by any Named Insured\\x94.\\n\\n[10]\\n\\nProject Co. obtained the necessary Primary Wrap-Up\\r\\n    coverage. That coverage had a limit of $100,000,000. Crosslinx and Capital are\\r\\n    both Named Insured under the terms of the Primary Wrap-Up policy. The coverage provided\\r\\n    by the Primary Wrap-Up insurance extended to property damage arising from the\\r\\n    project and payable by any Named Insured. Under the Primary Wrap-Up policy, the\\r\\n    insurer was obliged to defend Named Insured against claims and pay all expenses\\r\\n    including legal fees.\\n\\nThe Construction Contract\\n\\n[11]\\n\\nThe Construction Contract between Project Co.\\r\\n    and Crosslinx provided for insurance coverage that paralleled the Primary Wrap-Up\\r\\n    insurance required under the Project Agreement. Under the Construction Contract,\\r\\n    Project Co. undertook to obtain and maintain the Wrap-Up insurance it had\\r\\n    undertaken to obtain and maintain in the Project Agreement. All Subcontractors\\r\\n    were to be included as Named Insured and the insurance was designated as\\r\\n    primary.\\n\\n[12]\\n\\nAfter the property owners commenced their claims\\r\\n    against Crosslinx and Capital, the Primary Wrap-up Insurer retained a law firm\\r\\n    to defend Crosslinx in the two actions.\\n\\nThe Subcontract\\n\\n[13]\\n\\nThe terms of the Subcontract between Crosslinx\\r\\n    and Capital are central to the dispute between the parties. Several provisions\\r\\n    are relevant. Clause 9.1 provides a declaration of the intention of Crosslinx\\r\\n    and Capital:\\n\\nThe parties agree that it is their mutual\\r\\n    intent that Construction Contractor [Crosslinx] not incur for its own account\\r\\n    and without recourse to Subcontractor [Capital] any obligation or liability\\r\\n    under or in relation to the Subcontract Work.\\n\\n[14]\\n\\nThe Subcontract imposed certain insurance\\r\\n    obligations on Capital. Capital was required to obtain and maintain the insurance\\r\\n    coverage set out in Schedule D to the Subcontract. In essence that coverage paralleled\\r\\n    the Wrap-Up coverage Project Co. and Crosslinx had to maintain under the other\\r\\n    agreements. The schedule required Capital to obtain and maintain Commercial\\r\\n    General Liability insurance with a limit of $5,000,000. That insurance was\\r\\n    designated as primary \\x93except where the project specific insurance responds to\\r\\n    the loss\\x94. Crosslinx and Project Co. were to be named as Additional Insured\\r\\n    \\x93only with respect to the liability arising out of the operations of the Subcontractor\\r\\n    [Capital] with respect to the Subcontract Work\\x94. Clause 5.3 provided that whichever\\r\\n    party was responsible for the matter giving rise to a claim was responsible to\\r\\n    that same extent for payment of any deductible under any policy of insurance.\\n\\n[15]\\n\\nClause 2.1 and 2.2 of the Subcontract described\\r\\n    the relationship between the obligations created under the Subcontract and\\r\\n    those laid out in the Construction Contract. Those provisions are set out below:\\n\\n2.1 Intent of Subcontract\\n: The Parties acknowledge their mutual intent, and hereby agree,\\r\\n    that all obligations and liabilities of Construction Contractor arising under\\r\\n    the Construction Contract [and the Interface Agreement] in relation to the\\r\\n    performance of the Subcontract Work be assumed, performed and discharged by\\r\\n    Subcontractor under this Subcontract and in strict accordance with the terms\\r\\n    and conditions of the Construction Contract [the Interface Agreement] and the\\r\\n    other Subcontract Documents.\\nTherefore, the Parties\\r\\n    further acknowledge that the terms and conditions of the Construction Contract\\r\\n    [and the Interface Agreement] are incorporated by reference into and form part\\r\\n    of this Subcontract mutatis mutandis, and are applicable to and govern the\\r\\n    performance of the Subcontract Work by Subcontractor, with the changes\\r\\n    necessary to give full effect to the Intent of the Parties as set out in this\\r\\n    Subcontract, and subject to the express terms and conditions hereof\\n. Any\\r\\n    specific references to the Construction Contract [the Interface Agreement] or\\r\\n    the Project Agreement in the Subcontract Documents are not intended to be\\r\\n    exhaustive.\\n\\n2.2 Equivalent Project Relief\\n: Subcontractor acknowledges and agrees that:\\n\\n(a)\\nto the extent that\\r\\n    any entitlement of Construction Contractor under the Construction Contract is\\r\\n    related to the Subcontract Work, whether or not reflected in this Subcontract\\r\\n    as an entitlement of Subcontractor, Subcontractor shall be entitled to receive\\r\\n    the benefit of such entitlement to the extent that the Construction Contractor\\r\\n    is or becomes entitled under the Construction Contract\\n, but in any event\\r\\n    to no greater extent than Construction Contractor\\x92s entitlement under the\\r\\n    Construction Contract (\\x93\\nEquivalent Project Relief\\n\\x94); and\\n\\n(b) Subcontractor shall not be entitled to\\r\\n    receive any entitlement or benefit in respect of any Equivalent Project Relief\\r\\n    until Construction Contractor has received such entitlement or benefit from\\r\\n    Project Co. [Emphasis added.]\\n\\n[16]\\n\\nAmong other things, clauses 2.1 and 2.2 incorporate,\\r\\n    by reference into the Subcontract, the terms and conditions of the Construction\\r\\n    Contract. That incorporation included the Primary Wrap-Up insurance covenant in\\r\\n    the Construction Contract. The incorporation was, however, subject to \\x93the changes\\r\\n    necessary to give full effect to the intent of the Parties as set out in this\\r\\n    Subcontract, and subject to the express terms and conditions hereof.\\x94\\n\\n[17]\\n\\nThe Subcontract also contained a detailed indemnity\\r\\n    provision requiring Capital to indemnify and hold Crosslinx harmless from all\\r\\n    claims and related costs. \\x93Claims\\x94 were broadly defined as:\\n\\nClaims, actions, causes of actions, judgments,\\r\\n    fines, costs, losses, penalties, expenses, fees, damages (whether liquidated or\\r\\n    otherwise), legal costs (on a solicitor and client full indemnity basis), costs\\r\\n    of compliance with regulatory orders and any other liabilities, whether brought\\r\\n    or incurred by Construction Contractor [Crosslinx] or third parties.\\n\\n[18]\\n\\nThe indemnity extended to claims:\\n\\nCaused by or arising out of the performance,\\r\\n    non-performance or breach of this Subcontract including any failure of the\\r\\n    Subcontractor to perform and observe its obligations under this Subcontract; or\\r\\n    any act of omission, whether or not negligent, of Subcontractor.\\n\\nThe indemnity did not extend however\\r\\n    to claims caused \\x93solely by the wrongful act or neglect of Construction\\r\\n    Contractor [Crosslinx]\\x94.\\n\\n[19]\\n\\nThe relevant parts of the indemnity clause are set\\r\\n    out in full below:\\n\\n9.2.1\\nSubcontractor\\r\\n    shall be liable for, and shall indemnify and hold harmless Construction\\r\\n    Contractor and its affiliates and their respective directors officers and\\r\\n    employees (\"Indemnified Persons\") from and against, all Claims,\\r\\n    including all claims made by Project Co against Construction Contractor under\\r\\n    or relating to the Construction Contract, [and by Service Provider against\\r\\n    Construction Contractor under the Interface Agreement] and all arbitration\\r\\n    awards and judgements against the Indemnified Persons in respect thereof, to\\r\\n    the extent caused by or arising out of the performance, non-performance or\\r\\n    breach of this Subcontract including any failure of Subcontractor to perform\\r\\n    and observe its obligations under this Subcontract; or any act or omission,\\r\\n    whether or not negligent, of Subcontractor, its subcontractors of any tier, or\\r\\n    their respective directors, officers, agents or employees, in relation to the\\r\\n    Project, except only to the extent caused solely by the wrongful act or neglect\\r\\n    of Construction Contractor.\\n\\n9.2.2\\nSubcontractor\\r\\n    shall also Indemnify Construction Contractor to the same extent as Construction\\r\\n    Contractor has indemnified Project Co in the Construction Contract in respect\\r\\n    of the Subcontract Work.\\n\\n9.2.3\\nThe\\r\\n    Subcontractor further agrees to indemnify the Construction Contractor for any deductible\\r\\n    value payable by the Construction Contractor with respect to any project-specific\\r\\n    insurance policy placed by the Construction Contractor, Project Co and/or the\\r\\n    Owner, where the claim triggering the deductible value under the applicable\\r\\n    policy is caused by or arises out of the performance or non-performance of this\\r\\n    Subcontract by the Subcontractor. This indemnity survives termination of this Subcontract,\\r\\n    howsoever arising. Construction Contractor shall give Subcontractor prompt\\r\\n    Notice of any claim by Owner, Project Co or any other third party in relation\\r\\n    hereto, with reasonable particulars.\\n\\n[20]\\n\\nClause 12.17 of the Subcontract laid out the priorities\\r\\n    governing documents if there was an ambiguity, conflict or contradiction among\\r\\n    those documents. Under those priorities the terms of the Subcontract rank\\r\\n    several levels above the terms of the Construction Contract that are\\r\\n    incorporated\\nmutatis mutandis\\ninto the Subcontract.\\n\\nThe Application Judge\\x92s Reasons\\n\\n[21]\\n\\nThe application judge had to work his way\\r\\n    through the various provisions in the agreements outlined above. Broadly\\r\\n    speaking, the insurance covenants incorporated into the Subcontract favoured\\r\\n    Capital\\x92s interpretation of the Subcontract, while the indemnity provisions in\\r\\n    the Subcontract favoured the interpretation advanced by Crosslinx.\\n\\n[22]\\n\\nThe application judge appreciated that he had to\\r\\n    consider the Subcontract as a whole and within the broader context of the\\r\\n    arrangement created by the three agreements considered in tandem. He understood\\r\\n    that he was required to determine the objective intention of the parties to the\\r\\n    Subcontract based primarily on the language used by them. He said, at para. 30:\\n\\nIt is well established, black letter law that\\r\\n    courts must interpret contracts in a way that gives meaning to all of its terms\\r\\n    and avoids interpretations that render one or more terms ineffective. To adopt Capital\\x92s\\r\\n    interpretation would render ineffective the obligation on Capital to obtain its\\r\\n    own $5,000,000 liability policy, and would denude Capital\\x92s contractual\\r\\n    indemnity in favour of Crosslinx of almost all utility.\\n\\n[23]\\n\\nThe application judge went on to hold that the\\r\\n    indemnification requirements in the Subcontract imposed a duty on Capital to indemnify\\r\\n    Crosslinx in respect of any amounts Crosslinx was found liable to the property\\r\\n    owners and in respect of any amount Crosslinx owed pursuant to its indemnity\\r\\n    obligations, except insofar as the liability was based on Crosslinx\\x92s own\\r\\n    negligence. The application judge also concluded Capital had a duty to defend\\r\\n    Crosslinx and indemnify Crosslinx for all legal and other costs payable by\\r\\n    Crosslinx, including amounts payable under Crosslinx\\x92s indemnity obligations.\\r\\n    Finally, the application judge held Capital had an obligation to indemnify\\r\\n    Crosslinx for any deductibles paid or payable by Crosslinx or any person to\\r\\n    whom Crosslinx had indemnity obligations.\\n\\nCapital\\x92s Arguments\\n\\n(i)\\n\\nDoes an assumption of the risk follow, as a\\r\\n    matter of law, from a covenant to insure against that risk?\\n\\n[24]\\n\\nCapital\\x92s first and primary submission targets\\r\\n    the effect of the insurance covenants incorporated into the Subcontract by para.\\r\\n    2.1 of that agreement. Capital submits that under the terms of the insurance\\r\\n    covenant in the Construction Contract, Project Co. and Crosslinx were obliged\\r\\n    to provide Wrap-Up liability insurance to all Subcontractors, including Capital.\\r\\n    That insurance was intended to protect Subcontractors against the risk of property\\r\\n    damage claims like those made by the property owners. That insurance was\\r\\n    primary to any other coverage. Capital contends that those clear provisions were\\r\\n    incorporated by reference into the Subcontract.\\n\\n[25]\\n\\nRelying on a line of authority from the Supreme\\r\\n    Court of Canada and this court, Capital argues that a covenant to insure\\r\\n    against a certain peril constitutes an assumption of the risk of harm or damage\\r\\n    caused by that peril. As Crosslinx undertook to provide the requisite\\r\\n    insurance, it assumed responsibility for any damages caused when the harm\\r\\n    insured against occurred: see\\nAgnew-Surpass v. Cummer-Yonge,\\n[1976] 2\\r\\n    S.C.R. 221, at pp. 251-2;\\nT. Eaton Co. v. Smith et al.,\\n[1978] 2\\r\\n    S.C.R. 749, at p. 755;\\nRoss Southward Tire v. Pyrotech Products,\\n[1976]\\r\\n    2 S.C.R. 35, at p. 39;\\nMadison Developments Ltd. v. Plan Electric Co.\\n(1997)\\n,\\n36 O.R. (3d) 80 (C.A.),\\r\\n    at para. 9, leave to appeal refused, [1997] S.C.C.A. No. 659.\\n\\n[26]\\n\\nIn many, if not most circumstances, a promise to\\r\\n    insure against a certain risk will lead to the logical conclusion that the party\\r\\n    undertaking to insure against the risk had agreed to be responsible for any\\r\\n    damages should the risk ensue. That conclusion does not however reflect a free-standing\\r\\n    legal principal of contractual interpretation but is an example of how the\\r\\n    contractual intention of the parties is determined through an objective\\r\\n    consideration of all of the circumstances. An undertaking to insure leads to\\r\\n    the reasonable inference that the parties intended that the party promising to\\r\\n    insure would undertake the risk to be insured against. However, that inference can\\r\\n    only properly be drawn after a reading of the contract as a whole in the\\r\\n    factual context of the particular circumstances. The language of the contract\\r\\n    and the context control the interpretation of the contract, including any\\r\\n    insurance covenant in the contract. There is no legal rule that a party\\x92s covenant\\r\\n    to insure against a risk must mean it was intended that the party undertaking\\r\\n    to insure assumed the risk of the harm insured against:\\nRoyal Host G.P. Inc.\\r\\n    v. 1842259 Ontario Ltd.\\n,\\n2018\\r\\n    ONCA 467, 422 D.L.R. (4th) 661, at para. 16, leave to appeal refused, [2018]\\r\\n    S.C.C.A. No. 316.\\n\\n[27]\\n\\nThe correct approach to the interpretation of\\r\\n    insurance covenants is captured by G.R. Hall in\\nCanadian Contractual Interpretation\\r\\n    Law\\n,\\n4th ed. (Markham,\\r\\n    Ont.: LexisNexis, 2020), at pp. 340-41:\\n\\nThe interpretation of a covenant to insure as\\r\\n    an allocation of risk is not a rule of law, meaning that if the contractual\\r\\n    language indicates that the covenant is to insure, not to act as an allocation\\r\\n    of risk precluding liability for the event subject to the covenant, the text\\r\\n    will prevail and the covenant will not have that effect. Each contract\\r\\n    containing a covenant to insure must be interpreted based upon its own wording.\\r\\n    Decided cases can be helpful, when the wording considered is similar to that in\\r\\n    the agreement in issue. However, differences in the wording between each case\\r\\n    can be determinative.\\n\\n[28]\\n\\nThe application judge considered the same authorities\\r\\n    the appellant put before this court. He correctly rejected the submission that\\r\\n    the risk of loss associated with any peril must as a matter of law be on the\\r\\n    party under an obligation to insure against that risk. The application judge,\\r\\n    again correctly, held that the effect of the insurance covenant, like the\\r\\n    effect of any term in a contract, depended on the objective intention of the\\r\\n    parties determined by an examination of the contract as a whole and the\\r\\n    consideration of individual terms within that broader context. The application\\r\\n    judge correctly applied the applicable law.\\n\\n(ii)\\n\\nDid the application judge fail to consider the\\r\\n    terms of the Primary Wrap-Up insurance incorporated into the Subcontract?\\n\\n[29]\\n\\nCapital submits that even in the absence of a\\r\\n    legal principle that the assumption of risk follows a covenant to insure, the\\r\\n    application judge was required to give effect to the terms of the Primary\\r\\n    Wrap-Up insurance provision and the caselaw interpreting similar provisions.\\r\\n    Capital contends the application judge\\x92s interpretation of the Subcontract effectively\\r\\n    ignored binding caselaw and gave no meaning to the Primary Wrap-Up insurance\\r\\n    provision incorporated into the Subcontract. Capital argues, correctly, that\\r\\n    the failure to consider a material term in a contract amounts to an error of\\r\\n    law in the interpretation of that contract:\\nDeslaurier Custom Cabinets Inc.\\r\\n    v. 1728106 Ontario Inc.\\n, 2017 ONCA 293, 135 O.R. (3d) 241, at para. 59,\\r\\n    leave to appeal refused, [2016] S.C.C.A. No. 249.\\n\\n[30]\\n\\nA reading of the application judge\\x92s reasons\\r\\n    does not support Capital\\x92s submission. The application judge referred to all of\\r\\n    the relevant provisions in the various contracts. He reproduced the key\\r\\n    provisions. He appreciated the terms of the Primary Wrap-Up insurance covenant,\\r\\n    its qualified incorporation into the terms of the Subcontract, and Capital\\x92s\\r\\n    arguments made in reliance on the terms of the Primary Wrap-Up insurance\\r\\n    covenant.\\n\\n[31]\\n\\nThe application judge also examined the\\r\\n    authorities pertaining to insurance covenants and the assumption of risk. As\\r\\n    observed above, he correctly concluded they did not support the existence of a\\r\\n    principle requiring that a contract be interpreted so that the assumption of\\r\\n    risk followed the obligation to insure against that risk.\\n\\n[32]\\n\\nSignificantly, the application judge pointed out\\r\\n    that even if the risk had to follow the obligation to insure, that proposition\\r\\n    hardly determined the proper interpretation of the Subcontract. In the\\r\\n    insurance provisions within the Subcontract (Clause 5 and Schedule D) Capital had\\r\\n    undertaken to provide Wrap-Up insurance protecting Crosslinx and Project Co.\\r\\n    from liability arising out of Capital\\x92s work or operations. As the trial judge\\r\\n    observed, at para. 25:\\n\\nGiven that Capital agreed to secure insurance\\r\\n    against its own negligence, Capital has, on its own argument, assumed liability\\r\\n    for the risk of its own negligence.\\n\\n[33]\\n\\nIt cannot be said the application judge ignored\\r\\n    the Primary Wrap-Up insurance provisions incorporated into the Subcontract. He clearly\\r\\n    understood those terms. He also appreciated that the incorporation of the\\r\\n    Wrap-Up insurance provisions into the Subcontract was subject to \\x93the changes\\r\\n    necessary to give full effect to the intent of the Parties as set out in this Subcontract,\\r\\n    and subject to the express terms and condition hereof.\\x94 Similarly, the\\r\\n    incorporation of the Wrap-Up provision was subject to the priority provision in\\r\\n    Clause 12.17 of the Subcontract. That provision gave the Subcontract priority\\r\\n    over the Construction Contract and the Project Agreement if there was \\x93a conflict,\\r\\n    ambiguity, or contradiction\\x94.\\n\\n[34]\\n\\nWhile the application judge had to take into\\r\\n    account the terms of the Primary Wrap-Up insurance provision as incorporated\\r\\n    into the Subcontract, he also had to give meaning to the plain language of the\\r\\n    Subcontract which directly addressed the intention and obligations of the\\r\\n    parties to the Subcontract. Those provisions included the parties\\x92 express and unambiguous\\r\\n    declaration of their mutual intention that Crosslinx should not incur any\\r\\n    obligation or liability \\x93without recourse to Subcontractor [Capital]\\x94.\\n\\n[35]\\n\\nThe strongly worded indemnity provision\\r\\n    reflected the shared intention of the parties. Under that provision Capital\\r\\n    undertook to indemnify Crosslinx in respect of any award or judgment:\\n\\nTo the extent caused by or arising out of the\\r\\n    performance, non-performance or breach of this Subcontract including any\\r\\n    failure of Subcontractor to perform and observe its obligations under this\\r\\n    Subcontract.\\n\\n[36]\\n\\nThe indemnity was triggered by:\\n\\nAny act or omission whether or not negligent,\\r\\n    of Subcontractor\\n\\n[37]\\n\\nThe obligation by Capital to indemnify Crosslinx\\r\\n    excluded only claims to the extent that those claims were caused solely by the wrongful\\r\\n    act or neglect of Crosslinx.\\n\\n[38]\\n\\nAfter considering clause 9.1 and clause 9.2, the\\r\\n    application judge said at para. 29:\\n\\nSection 9.1 of the Subcontract makes clear\\r\\n    that it was the intention of the parties that Crosslinx not incur any liability\\r\\n    for the conduct of Capital. Section 9.2.1 makes clear that Capital would be\\r\\n    liable for its own negligence and would indemnify Crosslinx and hold it\\r\\n    harmless against claims arising out of Capital\\x92s conduct under the Subcontract.\\n\\n[39]\\n\\nThe application judge\\x92s analysis belies any\\r\\n    suggestion he failed to take into account and give meaning to the terms of the Primary\\r\\n    Wrap-Up insurance provision incorporated into the Subcontract. It is important\\r\\n    to bear in mind that the nature and scope of Capital\\x92s entitlement to recover\\r\\n    from the Primary Wrap-Up Insurer any amount paid or payable to Crosslinx under\\r\\n    the indemnification provision was not before the application judge. It may be,\\r\\n    as counsel for Crosslinx submitted in oral argument, that for practical\\r\\n    purposes this application is about responsibility as between Crosslinx and\\r\\n    Capital for amounts, such as deductibles, that are not recoverable under the\\r\\n    insurance coverage.\\n\\n[40]\\n\\nThe application judge\\x92s assessment of the interplay\\r\\n    between the Primary Wrap-Up insurance provision and the indemnification provision\\r\\n    in the Subcontract engaged questions of mixed fact and law. His assessment of\\r\\n    that interplay was reasonable. This court must defer to that assessment.\\n\\n(iii)\\n\\nDid the application judge err in concluding that\\r\\n    Capital\\x92s obligation to \\x93hold harmless\\x94 Crosslinx included a duty to defend\\r\\n    Crosslinx against the claims made by the property owners?\\n\\n[41]\\n\\nCapital\\x92s third argument challenges the\\r\\n    application judge\\x92s conclusion that the \\x93hold harmless\\x94 language in the\\r\\n    indemnity clause in the Subcontract should be read as imposing a duty on\\r\\n    Capital to defend Crosslinx against the claims brought by the property owners.\\r\\n    Capital submits that the Wrap-Up insurance provision incorporated into the\\r\\n    Subcontract required that both Crosslinx and Capital be defended under the Primary\\r\\n    Wrap-Up insurance policy. Capital further submits that the indemnity provision\\r\\n    in the Subcontract extends not just to claims made against Crosslinx but also\\r\\n    claims made by Crosslinx. Capital argues that it makes no sense to speak of a\\r\\n    duty to defend in respect of claims brought by Crosslinx.\\n\\n[42]\\n\\nIn response, Crosslinx submits that the\\r\\n    application judge properly looked to the language of the indemnity provision.\\r\\n    The words \\x93hold harmless\\x94 follow immediately after the word \\x93indemnify\\x94 and\\r\\n    must be given some meaning beyond the meaning of the word \\x93indemnify\\x94. Crosslinx\\r\\n    relies on the application judge\\x92s observation, at para. 38:\\n\\nThe indemnity before me is clear. It provides\\r\\n    that Capital shall hold Crosslinx harmless from any claim made against it to\\r\\n    the extent such claim arises out of Capital\\x92s performance of the Subcontract. I\\r\\n    can find no basis for excusing Capital from its duty to defend.\\n\\n[43]\\n\\nCapital\\x92s first argument in respect of the \\x93hold\\r\\n    harmless\\x94 provision in the indemnity clause essentially recycles the submission\\r\\n    that the terms of the Primary Wrap-Up insurance provision incorporated into the\\r\\n    Subcontract should circumscribe the scope of the indemnity clause. The\\r\\n    application judge rejected that submission. As set out above, his reading of the\\r\\n    relevant clauses of the Subcontract cannot be described as unreasonable.\\n\\n[44]\\n\\nCapital\\x92s second argument, that because the\\r\\n    indemnity extends to claims made by Crosslinx, as well as claims against\\r\\n    Crosslinx, it cannot include a duty to defend, ignores the central fact of this\\r\\n    case. The claims in issue were made by property owners against Crosslinx. The\\r\\n    meaning of the \\x93hold harmless\\x94 provision, in the context of a claim brought by\\r\\n    Crosslinx, is not before the court.\\n\\n[45]\\n\\nCapital has not identified an extricable\\r\\n    question of law arising out of the application judge\\x92s interpretation of the \\x93hold\\r\\n    harmless\\x94 provision in the indemnity clause. The application judge\\x92s\\r\\n    interpretation is not unreasonable. This court should defer to that\\r\\n    interpretation.\\n\\nConclusion\\n\\n[46]\\n\\nI would dismiss the appeal.\\n\\n[47]\\n\\nCrosslinx is entitled to its costs on a full\\r\\n    indemnity basis under the terms of the indemnity provision in the Subcontract.\\r\\n    I would fix those costs at $25,000, inclusive of disbursements and relevant\\r\\n    taxes.\\n\\nReleased:\\xa0 \\x93January 12, 2022 DD\\x94\\n\\n\\x93Doherty\\r\\n    J.A.\\x94\\n\\n\\x93I\\r\\n    agree M.L. Benotto J.A.\\x94\\n\\n\\x93I\\r\\n    agree Grant Huscroft J.A.\\x94\\n\\n\\n'"
            ],
            "application/vnd.google.colaboratory.intrinsic+json": {
              "type": "string"
            }
          },
          "metadata": {},
          "execution_count": 32
        }
      ]
    },
    {
      "cell_type": "markdown",
      "source": [
        "# BCCA"
      ],
      "metadata": {
        "id": "6Oh1P5WQvKyo"
      }
    },
    {
      "cell_type": "code",
      "source": [
        "bc_case_pages = []\n",
        "bcca_pages = [\"https://www.bccourts.ca/search_judgments.aspx?obd={}&court=1#SearchTitle\".format(i) for i in np.arange(2003,2022)]\n",
        "for year_page in bcca_pages:\n",
        "  par = requests.get(year_page).text\n",
        "  soup_s = BeautifulSoup(par,\"html.parser\")\n",
        "  for link in soup_s.find_all('a'):\n",
        "      result = link.get('href')\n",
        "      if isinstance(result,str):\n",
        "        if re.search(\"\\d{4}bcca.+\\.htm$|\\d{4}BCCA.+\\.htm$\",result):\n",
        "          bc_case_pages.append(\"https://www.bccourts.ca\"+result)"
      ],
      "metadata": {
        "id": "cnR5d_gTkKqp"
      },
      "execution_count": null,
      "outputs": []
    },
    {
      "cell_type": "code",
      "source": [
        "for c in progressbar(bc_case_pages):\n",
        "  yr = re.findall(\"\\d{4}(?=bcca)|\\d{4}(?=BCCA)\",c)[0]\n",
        "  caseid = re.findall(\"(?<=\\d{2}/).*(?=.htm)\",c)[0]\n",
        "  caset = requests.get(c).text\n",
        "  casetext = text_from_html(caset)\n",
        "  case_dict[caseid] = {'year':yr,'text':casetext,'jdx':'bc'}"
      ],
      "metadata": {
        "colab": {
          "base_uri": "https://localhost:8080/"
        },
        "id": "TCf-dKPZvuFA",
        "outputId": "1133ca6a-e0d8-4dc9-c390-e4e95fac1f61"
      },
      "execution_count": null,
      "outputs": [
        {
          "output_type": "stream",
          "name": "stderr",
          "text": [
            "100% (927 of 927) |######################| Elapsed Time: 0:08:23 Time:  0:08:23\n"
          ]
        }
      ]
    },
    {
      "cell_type": "markdown",
      "source": [
        "# SCC"
      ],
      "metadata": {
        "id": "j78cr2ETHkXD"
      }
    },
    {
      "cell_type": "markdown",
      "source": [
        ""
      ],
      "metadata": {
        "id": "-24Z_cLrJBdX"
      }
    },
    {
      "cell_type": "code",
      "source": [
        "#from time import sleep\n",
        "#for c in progressbar(np.arange(2789,19299)):\n",
        "#  curl = \"https://decisions.scc-csc.ca/scc-csc/scc-csc/en/item/{}/index.do?iframe=true\".format(c)\n",
        "#  caset = requests.get(curl).text\n",
        "#  casetext = text_from_html(caset)\n",
        "#  if re.search(\"Dear user,\",casetext):\n",
        "#    raise\n",
        "#  case_dict[c] = {'text':casetext,'jdx':'scc'}\n",
        "#  if c % 20 == 0:\n",
        "#    time.sleep(5)\n",
        "  "
      ],
      "metadata": {
        "colab": {
          "base_uri": "https://localhost:8080/",
          "height": 263
        },
        "id": "Gy8nYj4kv_NW",
        "outputId": "679058a2-72e7-48b1-91bf-05779e1a9bdd"
      },
      "execution_count": null,
      "outputs": [
        {
          "output_type": "stream",
          "name": "stderr",
          "text": [
            "\r                                                                               \r\rN/A% (0 of 16510) |                      | Elapsed Time: 0:00:00 ETA:  --:--:--"
          ]
        },
        {
          "output_type": "error",
          "ename": "RuntimeError",
          "evalue": "ignored",
          "traceback": [
            "\u001b[0;31m---------------------------------------------------------------------------\u001b[0m",
            "\u001b[0;31mRuntimeError\u001b[0m                              Traceback (most recent call last)",
            "\u001b[0;32m<ipython-input-55-9aa0adff33ed>\u001b[0m in \u001b[0;36m<module>\u001b[0;34m()\u001b[0m\n\u001b[1;32m      5\u001b[0m   \u001b[0mcasetext\u001b[0m \u001b[0;34m=\u001b[0m \u001b[0mtext_from_html\u001b[0m\u001b[0;34m(\u001b[0m\u001b[0mcaset\u001b[0m\u001b[0;34m)\u001b[0m\u001b[0;34m\u001b[0m\u001b[0;34m\u001b[0m\u001b[0m\n\u001b[1;32m      6\u001b[0m   \u001b[0;32mif\u001b[0m \u001b[0mre\u001b[0m\u001b[0;34m.\u001b[0m\u001b[0msearch\u001b[0m\u001b[0;34m(\u001b[0m\u001b[0;34m\"Dear user,\"\u001b[0m\u001b[0;34m,\u001b[0m\u001b[0mcasetext\u001b[0m\u001b[0;34m)\u001b[0m\u001b[0;34m:\u001b[0m\u001b[0;34m\u001b[0m\u001b[0;34m\u001b[0m\u001b[0m\n\u001b[0;32m----> 7\u001b[0;31m     \u001b[0;32mraise\u001b[0m\u001b[0;34m\u001b[0m\u001b[0;34m\u001b[0m\u001b[0m\n\u001b[0m\u001b[1;32m      8\u001b[0m   \u001b[0mcase_dict\u001b[0m\u001b[0;34m[\u001b[0m\u001b[0mc\u001b[0m\u001b[0;34m]\u001b[0m \u001b[0;34m=\u001b[0m \u001b[0;34m{\u001b[0m\u001b[0;34m'text'\u001b[0m\u001b[0;34m:\u001b[0m\u001b[0mcasetext\u001b[0m\u001b[0;34m,\u001b[0m\u001b[0;34m'jdx'\u001b[0m\u001b[0;34m:\u001b[0m\u001b[0;34m'scc'\u001b[0m\u001b[0;34m}\u001b[0m\u001b[0;34m\u001b[0m\u001b[0;34m\u001b[0m\u001b[0m\n\u001b[1;32m      9\u001b[0m   \u001b[0;32mif\u001b[0m \u001b[0mc\u001b[0m \u001b[0;34m%\u001b[0m \u001b[0;36m20\u001b[0m \u001b[0;34m==\u001b[0m \u001b[0;36m0\u001b[0m\u001b[0;34m:\u001b[0m\u001b[0;34m\u001b[0m\u001b[0;34m\u001b[0m\u001b[0m\n",
            "\u001b[0;31mRuntimeError\u001b[0m: No active exception to reraise"
          ]
        }
      ]
    },
    {
      "cell_type": "code",
      "source": [
        "with open(\"/content/drive/MyDrive/\" + \"canada_cases.pickle\", \"wb\") as f:\n",
        "  dump(case_dict, f)\n",
        "  f.close()\n",
        "\n"
      ],
      "metadata": {
        "id": "HmxRAYroGLKk"
      },
      "execution_count": null,
      "outputs": []
    },
    {
      "cell_type": "code",
      "source": [
        "casetext"
      ],
      "metadata": {
        "colab": {
          "base_uri": "https://localhost:8080/",
          "height": 146
        },
        "id": "62iPj9PMIibY",
        "outputId": "bb9ce30b-84dd-4e13-bd62-a7d23279ba7c"
      },
      "execution_count": null,
      "outputs": [
        {
          "output_type": "execute_result",
          "data": {
            "text/plain": [
              "\"\\n\\n\\n\\n\\nDear user,\\n\\nYou are accessing a web site that utilizes Lexum's Decisia technology. Occasionally, the Decisia software calls upon users accessing a large number of files to ensure that they are people and not programs acting on command.\\n\\nIf you are not a computer, please proceed with the captcha test below by typing the letters and numbers displayed in the captcha image into the text box provided. Note that reading the audible captcha, which allows you to hear the numbers to be typed into the text box, requires Firefox, Chrome or Microsoft Edge. You can then resume your work where you left off.\\n\\nTo report any issues, please\\ncontact us\\n.\\n\\nHappy searching!\\n\\n\\n\\n\\n\\n\\n\\n\\n\\n\\nResponse\\n\\n\\n\\n\\n\\n\\n\\n\\n\\n\\n\\n\\n\\n\\n\""
            ],
            "application/vnd.google.colaboratory.intrinsic+json": {
              "type": "string"
            }
          },
          "metadata": {},
          "execution_count": 54
        }
      ]
    }
  ]
}